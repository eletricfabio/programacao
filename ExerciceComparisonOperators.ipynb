{
 "cells": [
  {
   "cell_type": "code",
   "execution_count": 6,
   "metadata": {},
   "outputs": [
    {
     "data": {
      "text/plain": [
       "False"
      ]
     },
     "execution_count": 6,
     "metadata": {},
     "output_type": "execute_result"
    }
   ],
   "source": [
    "# COMPARISON OPERATORS comparadores lógicos\n",
    "a=5\n",
    "a==6"
   ]
  },
  {
   "cell_type": "code",
   "execution_count": 7,
   "metadata": {},
   "outputs": [
    {
     "data": {
      "text/plain": [
       "False"
      ]
     },
     "execution_count": 7,
     "metadata": {},
     "output_type": "execute_result"
    }
   ],
   "source": [
    "i=2\n",
    "i>5"
   ]
  },
  {
   "cell_type": "code",
   "execution_count": 8,
   "metadata": {},
   "outputs": [
    {
     "data": {
      "text/plain": [
       "True"
      ]
     },
     "execution_count": 8,
     "metadata": {},
     "output_type": "execute_result"
    }
   ],
   "source": [
    "i=2\n",
    "i!=6"
   ]
  },
  {
   "cell_type": "code",
   "execution_count": 9,
   "metadata": {},
   "outputs": [
    {
     "data": {
      "text/plain": [
       "True"
      ]
     },
     "execution_count": 9,
     "metadata": {},
     "output_type": "execute_result"
    }
   ],
   "source": [
    "# Método String \n",
    "\"AC/DC\"!=\"Michael Jackson\""
   ]
  },
  {
   "cell_type": "code",
   "execution_count": 10,
   "metadata": {},
   "outputs": [
    {
     "data": {
      "text/plain": [
       "True"
      ]
     },
     "execution_count": 10,
     "metadata": {},
     "output_type": "execute_result"
    }
   ],
   "source": [
    "\"BA\">\"AB\""
   ]
  },
  {
   "cell_type": "code",
   "execution_count": 11,
   "metadata": {},
   "outputs": [],
   "source": [
    "# \"case-sensitive\" - letras maiúsculas têm um código ASCII diferente do que \n",
    "# letras minúsculas,o que significa que a comparação entre as letras em python \n",
    "# faz distinção entre maiúsculas e minúsculas."
   ]
  },
  {
   "cell_type": "code",
   "execution_count": 12,
   "metadata": {},
   "outputs": [],
   "source": [
    "# Branching Ramificação\n",
    "# if - else - elseif"
   ]
  },
  {
   "cell_type": "code",
   "execution_count": 16,
   "metadata": {},
   "outputs": [
    {
     "name": "stdout",
     "output_type": "stream",
     "text": [
      "Entrada permitida\n",
      "Ir em frente\n"
     ]
    }
   ],
   "source": [
    "age=19\n",
    "\n",
    "if age>18:\n",
    "    print(\"Entrada permitida\")\n",
    "    \n",
    "    print(\"Ir em frente\")\n",
    "    \n",
    "    "
   ]
  },
  {
   "cell_type": "code",
   "execution_count": 17,
   "metadata": {},
   "outputs": [
    {
     "name": "stdout",
     "output_type": "stream",
     "text": [
      "Vá ver o Meat Loaf\n",
      "Ir em frente\n"
     ]
    }
   ],
   "source": [
    "age=18\n",
    "\n",
    "if age>18:\n",
    "    \n",
    "    print(\"Você pode entrar\")\n",
    "    \n",
    "else:\n",
    "    print(\"Vá ver o Meat Loaf\")\n",
    "    \n",
    "print(\"Ir em frente\")"
   ]
  },
  {
   "cell_type": "code",
   "execution_count": 19,
   "metadata": {},
   "outputs": [
    {
     "name": "stdout",
     "output_type": "stream",
     "text": [
      "Vá ver o Pink Floyd\n",
      "Ir em frente\n"
     ]
    }
   ],
   "source": [
    "age=18\n",
    "\n",
    "if age>18:\n",
    "    \n",
    "    print(\"Você pode entrar\")\n",
    "elif age==18:\n",
    "    print(\"Vá ver o Pink Floyd\")\n",
    "else:\n",
    "    print(\"Vá ver o Meat Loaf\")\n",
    "    \n",
    "print(\"Ir em frente\") "
   ]
  },
  {
   "cell_type": "code",
   "execution_count": 25,
   "metadata": {},
   "outputs": [
    {
     "name": "stdout",
     "output_type": "stream",
     "text": [
      "\n",
      "Faça alguma coisa..\n"
     ]
    }
   ],
   "source": [
    "# Exemplo 2\n",
    "\n",
    "album_year = 1983\n",
    "album_year = 1970\n",
    "\n",
    "if album_year > 1980:\n",
    "    print(\"Este album é maior que 1980\")\n",
    "    \n",
    "print(\"\")\n",
    "print(\"Faça alguma coisa..\")\n",
    "    "
   ]
  },
  {
   "cell_type": "code",
   "execution_count": 27,
   "metadata": {},
   "outputs": [
    {
     "name": "stdout",
     "output_type": "stream",
     "text": [
      "Este album é Amazing!\n"
     ]
    }
   ],
   "source": [
    "rating=8.5\n",
    "\n",
    "if rating>8:\n",
    "    print(\"Este album é Amazing!\")"
   ]
  },
  {
   "cell_type": "code",
   "execution_count": 28,
   "metadata": {},
   "outputs": [
    {
     "name": "stdout",
     "output_type": "stream",
     "text": [
      "Este album é Amazing!\n"
     ]
    }
   ],
   "source": [
    "rating=8.5\n",
    "\n",
    "if rating>8:\n",
    "    print(\"Este album é Amazing!\")\n",
    "else:\n",
    "    print(\"Este album é ok!\")"
   ]
  },
  {
   "cell_type": "code",
   "execution_count": 29,
   "metadata": {},
   "outputs": [
    {
     "name": "stdout",
     "output_type": "stream",
     "text": [
      "Este album não é dos 1980\n"
     ]
    }
   ],
   "source": [
    "#Exemplo 3\n",
    "\n",
    "album_year = 1990\n",
    "\n",
    "if (album_year < 1980) or (album_year > 1989):\n",
    "    print(\"Este album não é dos 1980\")\n",
    "else:\n",
    "    print(\"Este album foi feito nos 1980\")"
   ]
  },
  {
   "cell_type": "code",
   "execution_count": 31,
   "metadata": {},
   "outputs": [
    {
     "name": "stdout",
     "output_type": "stream",
     "text": [
      "Este album não é de 1984\n"
     ]
    }
   ],
   "source": [
    "album_year = 1983\n",
    "\n",
    "if not (album_year == \"1984\"):\n",
    "    print(\"Este album não é de 1984\")"
   ]
  },
  {
   "cell_type": "code",
   "execution_count": null,
   "metadata": {},
   "outputs": [],
   "source": []
  }
 ],
 "metadata": {
  "kernelspec": {
   "display_name": "Python 3",
   "language": "python",
   "name": "python3"
  },
  "language_info": {
   "codemirror_mode": {
    "name": "ipython",
    "version": 3
   },
   "file_extension": ".py",
   "mimetype": "text/x-python",
   "name": "python",
   "nbconvert_exporter": "python",
   "pygments_lexer": "ipython3",
   "version": "3.6.6"
  }
 },
 "nbformat": 4,
 "nbformat_minor": 2
}
